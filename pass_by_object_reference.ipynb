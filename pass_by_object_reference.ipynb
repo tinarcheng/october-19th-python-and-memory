{
 "cells": [
  {
   "cell_type": "markdown",
   "metadata": {},
   "source": [
    "# What is up with the dictionaries and return values?"
   ]
  },
  {
   "cell_type": "code",
   "execution_count": 11,
   "metadata": {},
   "outputs": [
    {
     "name": "stdout",
     "output_type": "stream",
     "text": [
      "just made dictionary:  {'third': 3} 140602788377088\n",
      "in new_dict:  {'first': 1, 'second': 2} 140602788386176\n",
      "calling new_dict:  {'first': 1, 'second': 2}\n",
      "after new_dict:  {'third': 3} 140602788377088\n",
      "in add:  {'third': 3, 'four': 4} 140602788377088\n",
      "calling add:  None\n",
      "after add:  {'third': 3, 'four': 4} 140602788377088\n"
     ]
    }
   ],
   "source": [
    "# Try a function that locally redefines variable dictionary\n",
    "def new_dict(dictionary):\n",
    "    dictionary = {'first': 1, 'second': 2}\n",
    "    print('in new_dict: ', dictionary, id(dictionary))\n",
    "    return dictionary\n",
    " \n",
    "# Try a function that modifies variable dictionary and *does not return variable dictionary*\n",
    "def add(dictionary, key, value):\n",
    "    dictionary[key] = value\n",
    "    print('in add: ', dictionary, id(dictionary))\n",
    " \n",
    "# Make a dictionary\n",
    "dictionary = {'third': 3}\n",
    "# Where is this dictionary in the computer?\n",
    "print('just made dictionary: ', dictionary, id(dictionary))\n",
    " \n",
    "# Call new_dict\n",
    "print('return from new_dict: ', new_dict(dictionary))\n",
    "print('after new_dict: ', dictionary, id(dictionary))\n",
    " \n",
    "# Call add\n",
    "print('return from add: ', add(dictionary, 'four', 4))\n",
    "print('after add: ', dictionary, id(dictionary))"
   ]
  },
  {
   "cell_type": "markdown",
   "metadata": {},
   "source": [
    "## Is it also up with lists?"
   ]
  },
  {
   "cell_type": "code",
   "execution_count": 13,
   "metadata": {},
   "outputs": [
    {
     "name": "stdout",
     "output_type": "stream",
     "text": [
      "just made my_list:  ['E'] 140602788326592\n",
      "in set_list:  140602788384896\n",
      "return from set_list:  ['A', 'B', 'C']\n",
      "after set_list:  ['E'] 140602788326592\n",
      "in add:  140602788326592\n",
      "return from add:  ['E', 'D']\n",
      "after add:  ['E', 'D'] 140602788326592\n",
      "in add:  140602788326592\n",
      "return from subtract:  None\n",
      "after subtract:  ['E'] 140602788326592\n"
     ]
    }
   ],
   "source": [
    "# Try a function that modifies variable sequence locally\n",
    "def set_list(sequence):\n",
    "    sequence = [\"A\", \"B\", \"C\"]\n",
    "    print('in set_list: ', id(sequence))\n",
    "    return sequence\n",
    " \n",
    "# Try a function that modifies variable sequence and returns it\n",
    "def add(sequence):\n",
    "    sequence.append(\"D\")\n",
    "    print('in add: ', id(sequence))\n",
    "    return sequence\n",
    "\n",
    "# Try a function that modifies variable sequence and *does not* return it\n",
    "def subtract(sequence):\n",
    "    sequence.pop()\n",
    "    print('in subtract: ', id(sequence))\n",
    " \n",
    "# Make a sequence\n",
    "my_sequence = [\"E\"]\n",
    "print('just made my_list: ', my_sequence, id(my_sequence))\n",
    "\n",
    "\n",
    "# Call set_list\n",
    "print('return from set_list: ', set_list(my_sequence))\n",
    "print('after set_list: ', my_sequence, id(my_sequence))\n",
    " \n",
    "# Call add\n",
    "print('return from add: ', add(my_sequence))\n",
    "print('after add: ', my_sequence, id(my_sequence))\n",
    "\n",
    "# Call subtract\n",
    "print('return from subtract: ', subtract(my_sequence))\n",
    "print('after subtract: ', my_sequence, id(my_sequence))\n"
   ]
  },
  {
   "cell_type": "markdown",
   "metadata": {},
   "source": [
    "## Is it also up with strings?"
   ]
  },
  {
   "cell_type": "code",
   "execution_count": 16,
   "metadata": {},
   "outputs": [
    {
     "name": "stdout",
     "output_type": "stream",
     "text": [
      "just made my_list:  E 140603394749296\n",
      "in set_list:  140603394545392\n",
      "return from set_list:  ABC\n",
      "after set_list:  E 140603394749296\n",
      "in add:  140602788442224\n",
      "return from add:  ED\n",
      "after add:  E 140603394749296\n",
      "in subtract:  140603395358768\n",
      "return from subtract:  None\n",
      "after subtract:  E 140603394749296\n"
     ]
    }
   ],
   "source": [
    "# Try a function that modifies variable sequence locally\n",
    "def set_list(sequence):\n",
    "    sequence = \"ABC\"\n",
    "    print('in set_list: ', id(sequence))\n",
    "    return sequence\n",
    " \n",
    "# Try a function that modifies variable sequence and returns it\n",
    "def add(sequence):\n",
    "    sequence += \"D\"\n",
    "    print('in add: ', id(sequence))\n",
    "    return sequence\n",
    "\n",
    "# Try a function that modifies variable sequence and *does not* return it\n",
    "def subtract(sequence):\n",
    "    sequence = sequence[:-1]\n",
    "    print('in subtract: ', id(sequence))\n",
    " \n",
    "# Make a sequence\n",
    "my_sequence = \"E\"\n",
    "print('just made my_list: ', my_sequence, id(my_sequence))\n",
    "\n",
    "\n",
    "# Call set_list\n",
    "print('return from set_list: ', set_list(my_sequence))\n",
    "print('after set_list: ', my_sequence, id(my_sequence))\n",
    " \n",
    "# Call add\n",
    "print('return from add: ', add(my_sequence))\n",
    "print('after add: ', my_sequence, id(my_sequence))\n",
    "\n",
    "# Call subtract\n",
    "print('return from subtract: ', subtract(my_sequence))\n",
    "print('after subtract: ', my_sequence, id(my_sequence))\n"
   ]
  },
  {
   "cell_type": "markdown",
   "metadata": {},
   "source": [
    "# Resources\n",
    "\n",
    "* https://www.geeksforgeeks.org/pass-by-reference-vs-value-in-python/\n",
    "* https://realpython.com/python-pass-by-reference/"
   ]
  }
 ],
 "metadata": {
  "kernelspec": {
   "display_name": "Python 3",
   "language": "python",
   "name": "python3"
  },
  "language_info": {
   "codemirror_mode": {
    "name": "ipython",
    "version": 3
   },
   "file_extension": ".py",
   "mimetype": "text/x-python",
   "name": "python",
   "nbconvert_exporter": "python",
   "pygments_lexer": "ipython3",
   "version": "3.10.8"
  }
 },
 "nbformat": 4,
 "nbformat_minor": 2
}
